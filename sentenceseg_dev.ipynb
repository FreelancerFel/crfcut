{
 "cells": [
  {
   "cell_type": "code",
   "execution_count": 1,
   "metadata": {},
   "outputs": [],
   "source": [
    "#adapted from @bact at https://colab.research.google.com/drive/1hdtmwTXHLrqNmDhDqHnTQGpDVy1aJc4t\n",
    "import json\n",
    "import pandas as pd\n",
    "import numpy as np\n",
    "import re\n",
    "import pycrfsuite\n",
    "from sklearn.model_selection import train_test_split\n",
    "from sklearn.metrics import classification_report\n",
    "from pythainlp.tokenize import word_tokenize\n",
    "from pythainlp.tag import pos_tag\n",
    "with open('data/talks.transcript.th-en.24-10-2019_11:12.json', 'r') as f:\n",
    "    data = json.load(f)"
   ]
  },
  {
   "cell_type": "code",
   "execution_count": 2,
   "metadata": {},
   "outputs": [],
   "source": [
    "talk_idx = []\n",
    "idx = []\n",
    "th_phrases = []\n",
    "en_phrases = []\n",
    "\n",
    "for i in range(len(data)):\n",
    "    nb_phrases = min(len(data[i]['en']),len(data[i]['th']))\n",
    "    for j in range(nb_phrases):\n",
    "        talk_idx.append(i)\n",
    "        th_phrases.append(data[i]['th'][j])\n",
    "        en_phrases.append(data[i]['en'][j])\n",
    "        if data[i]['en'][j][-1]=='.':\n",
    "            idx.append(1)\n",
    "        else:\n",
    "            idx.append(0)"
   ]
  },
  {
   "cell_type": "code",
   "execution_count": 3,
   "metadata": {},
   "outputs": [
    {
     "data": {
      "text/plain": [
       "136463"
      ]
     },
     "execution_count": 3,
     "metadata": {},
     "output_type": "execute_result"
    }
   ],
   "source": [
    "phrase_df = pd.DataFrame({'talk_idx':talk_idx,'en_phrase':en_phrases ,'th_phrase':th_phrases, 'idx':idx})\n",
    "phrase_df.idx.sum()"
   ]
  },
  {
   "cell_type": "code",
   "execution_count": 4,
   "metadata": {},
   "outputs": [],
   "source": [
    "all_sentences = []\n",
    "for i in range(phrase_df.talk_idx.max()):\n",
    "    df = phrase_df[phrase_df.talk_idx==i]\n",
    "    sentences = []\n",
    "    for j,row in df.iterrows():\n",
    "        sentences.append(row.th_phrase)\n",
    "        if row.idx==1:\n",
    "            sentences.append(' |')\n",
    "    joined_sentences = ''.join(sentences)\n",
    "    #remove parantheses like (audience claps)\n",
    "    joined_sentences = re.sub(r'\\([^)]*\\)', '', joined_sentences)\n",
    "    #skip if talk is nothing but parantheses\n",
    "    if joined_sentences=='': continue\n",
    "    #remove | at the last sentence if present\n",
    "    if joined_sentences[-1]=='|': joined_sentences = joined_sentences[:-1]\n",
    "    all_sentences.append(joined_sentences)"
   ]
  },
  {
   "cell_type": "code",
   "execution_count": 5,
   "metadata": {},
   "outputs": [
    {
     "data": {
      "text/plain": [
       "1544"
      ]
     },
     "execution_count": 5,
     "metadata": {},
     "output_type": "execute_result"
    }
   ],
   "source": [
    "len(all_sentences)"
   ]
  },
  {
   "cell_type": "code",
   "execution_count": 6,
   "metadata": {},
   "outputs": [
    {
     "data": {
      "text/plain": [
       "'บนหลังอาชาแห้งกร่องดอนกิโฆเต้ พระเอกของเราบุกตะลุยสู้กับกองทัพยักษ์ |ในสายตาของเขา มันเป็นหน้าที่ของเขาที่จะปราบอสูรร้ายเหล่านี้ในนามแห่งหญิงอันเป็นที่รักของเขา ดุลสิเนอา |ทว่า การกระทำอันหาญกล้านี้ก็สูญเปล่า |เมื่อซานโซ่ ปันซ่า ผู้รับใช้ของเขาอธิบายครั้งแล้วครั้งเล่า ว่าสิ่งเหล่านี้จะเป็นยักษ์ก็หาไม่พวกมันเป็นเพียงกังหันลมเท่านั้น |ดอนกิโฆเต้ หาได้เสียความแน่วแน่แทงทวนของเขาเข้าไปยังใบพัดอย่างจัง |ด้วยพลังใจที่ไม่เคยถดถอยอัศวินผู้นั้นยืนขึ้นอย่างภาคภูมิและยิ่งเชื่อมั่นในปฏิบัติการของเขามากขึ้น |ลำดับเหตุการณ์นี้ครอบคลุมเรื่องราวส่วนใหญ่ของดอนกิโฆเต้ ที่เป็นที่รักมหากาพย์ ไร้ตรรกะ และมีชีวิตชีวาของ อลองโซ กีฆานาผู้กลายเป็น ดอนกิโฆเต้ แห่งลามันช่าผู้ซุ่มซ่ามแต่กล้าหาญหรือที่รู้จักกันในนาม ขุนนางต่ำศักดิ์นักฝัน |แต่เดิมวรรณกรรมนี้มีสองเล่มบรรยายเรื่องราวของดอนกิโฆเต้ในขณะที่เขาเดินทางผ่านตอนกลาง และตอนเหนือของสเปนเพื่อต่อสู้กับบรรดาปิศาจร้าย |แม้จินตนาการในเรื่อง ดอนกิโฆเต้ จะสูงล้ำเหนือเมฆผู้ประพันธ์ มิเกล เด เซร์บันเตสก็ไม่เคยนึกฝันว่าหนังสือของเขาจะกลายเป็นนิยายที่ขายดีที่สุดตลอดกาล |5 ปี ในฐานะทหารและอีก 5 ปีที่ถูกโจรสลัดจับเป็นเชลยเซร์บันเตส ใช้ชีวิตส่วนใหญ่ในฐานะกวีและนักเขียนบทละครตกอับ |จนถึงช่วงปลายยุค 50เขาตีพิมพ์ผลงานที่ยอดเยี่ยมที่สุดของเขานิยายมหากาพย์เสียดสีเกียรติแห่งอัศวิน |ณ เวลานั้นหนังสือในยุคกลางที่บันทึกเรื่องราวการผจญภัยและคติธรรมของอัศวินกำลังเป็นที่นิยมในวัฒนธรรมยุโรป |แม้ว่า เซร์บันเตส จะชื่นชมมันเขาก็เอือมเต็มทนกับเนื้อหาที่ซ้ำซากนั้นที่ให้ความสนใจกับการกระทำแบบวีรบุรุษมากกว่าการพัฒนาตัวละคร |เพื่อท้าทายสิ่งนั้น เขาประพันธ์ดอนกิโฆเต้เรื่องราวของฮิดาลโก หรือขุนนางขี้เกียจผู้ใช้เวลาทั้งวันทั้งคืนอ่านนิยายอัศวิน |ด้วยความคลั่งไคล้เรื่องราวเหล่านี้เขาตั้งตนเป็นผู้พิชิตเพื่อช่วยผู้ถูกกดขี่ |ทุกคนในหมู่บ้านของเขาพยายามโน้มน้าว ให้เขาล้มเลิกเรื่องวิกลจริตนี้จนถึงขั้นเผาหนังสือเก่าเก็บในห้องสมุดส่วนตัวของเขา |แต่ก็ไม่มีใครฉุดดอนกิโฆเต้อยู่ |เขาสวมชุดเกราะวาบวับเก่า ๆขึ้นควบอาชาแห้งกร่องและเผ่นออกจากหมู่บ้าน เพื่อเสาะหาความรุ่งโรจน์ |นิยายของเซร์บันเตสเผยเรื่องราวเป็นตอน ๆที่ให้รายละเอียดเกี่ยวกับ ความพิกลของอัศวินผู้กล้ารายนี้ |นอกจากนี้ สิ่งที่ต่างจาก หนังสือเกี่ยวกับอัศวินและนิยายที่เคยมีมาก่อนหน้านี้เรื่องราวของเซร์บันเตส เจาะลึกลงไปในชีวิตส่วนตัวของตัวละครเอก |ดอนกิโฆเต้ ค่อย ๆ พัฒนาบทบาท เมื่อเรื่องราวดำเนินไปมีการเปลี่ยนแปลงที่เห็นได้ชัด |การค้นพบใหม่ทางวรรณกรรมนี้ทำให้นักวิชาการมากมายกล่าวว่าดอนกิโฆเต้คือนิยายยุคใหม่เรื่องแรก |และพัฒนาการของตัวละครนี้ก็ไม่ได้เกิดขึ้นอย่างเป็นเอกเทศ |ในตอนต้น ดอนกิโฆเต้ได้ชาวบ้านที่ผันตัวมาเป็นผู้ติดตามนามว่า ซานโซ่ ปันซ่า |ซานโซ่ และดอนกิโฆเต้คือกรณีศึกษาที่มีลักษณะตรงข้ามกันคนหนึ่งมีพื้นฐานเป็นคนสมเหตุสมผลอีกคนเป็นยึดถืออุดมการณ์ |มิตรภาพอันสดใสที่ค่อย ๆ เติบโตของพวกเขามักถูกมองว่าเป็นต้นตำรับ ความสัมพันธ์แบบพระเอกและพระรองที่เป็นแรงบันดาลใจให้กับมิตรภาพ ในนิยายต่อมาอีกหลายศตวรรษ |ดอนกิโฆเต้ได้รับความสำเร็จอย่างมาก |มันถูกพิมพ์มากมายหลายครั้ง ไปทั่วทั้งยุโรปในศตวรรษที่สิบเจ็ด |แม้แต่ในทวีปอเมริกาซึ่งศาสนาคริสต์บัญญัติว่านิยายเป็นสิ่งต้องห้ามผู้อ่านก็ยังลักลอบอ่าน |หนังสือได้รับความนิยมอย่างมากจนผู้อ่านเรียกร้องอยากได้อีก |หลังจากนักเขียนคู่แข่งพยายามที่จะสร้างนิยายเลียนแบบเซร์บันเตสก็เขียนภาคต่อออกมา |ตอนนี้ นิยายเล่มสองถูกตีพิมพ์ ด้วยกันกับเล่มแรกเล่าเรื่องราวต่อจากปมที่ทิ้งไว้ทำให้มันเป็นนิยายที่สมบูรณ์เพียงแต่ตอนนี้ ดอนกิโฆเต้และซานโซ่ ได้กลายเป็นวีรบุรุษในตำนาน |เซร์บันเตส นำเอาความสำเร็จ ในโลกแห่งความเป็นจริงไปรวมไว้ในโลกของตัวละครของเขาด้วย |ความเชื่อมโยงที่แปลกนี้สร้างความซับซ้อนทางปรัชญาขึ้นมาเมื่ออัศวินและผู้ติดตามของเราคิดคะนึงถึงความหมายของเรื่องราวตนเอง |น่าเสียดาย ที่เซร์บันเตสขายลิขสิทธิ์การตีพิมพ์หนังสือเล่มนี้ ด้วยราคาที่ถูกมาก |เขาเสียชีวิตรวยแต่เพียงชื่อเสียง |แต่ผลงานที่ทรงพลังความคิดสร้างสรรค์และความมีตัวตนเป็นเอกลักษณ์ ได้ส่งแรงบันดาลใจให้กับศิลปะวรรณกรรมวัฒนธรรมร่วมสมัยแม้กระทั่งการปฎิวัติทางการเมือง |ดอนกิโฆเต้แย้งว่าจินตนาการของเรา ส่งผลต่อการกระทำของเราอย่างยิ่งมันทำให้เรามีศักยภาพที่จะเปลี่ยนแปลงและนั่นเอง ทำให้เราเป็นมนุษย์ '"
      ]
     },
     "execution_count": 6,
     "metadata": {},
     "output_type": "execute_result"
    }
   ],
   "source": [
    "all_sentences[0]"
   ]
  },
  {
   "cell_type": "code",
   "execution_count": 7,
   "metadata": {},
   "outputs": [],
   "source": [
    "all_tuples = []\n",
    "for i in range(len(all_sentences)):\n",
    "    tuples = []\n",
    "    for s in all_sentences[i].split('|'):\n",
    "        s_lst = word_tokenize(s)\n",
    "        for j in range(len(s_lst)):\n",
    "            lab = 'B' if j==0 else 'I'\n",
    "            tuples.append((s_lst[j],lab))\n",
    "    all_tuples.append(tuples)"
   ]
  },
  {
   "cell_type": "code",
   "execution_count": 8,
   "metadata": {},
   "outputs": [
    {
     "data": {
      "text/plain": [
       "1544"
      ]
     },
     "execution_count": 8,
     "metadata": {},
     "output_type": "execute_result"
    }
   ],
   "source": [
    "len(all_tuples)"
   ]
  },
  {
   "cell_type": "code",
   "execution_count": 25,
   "metadata": {},
   "outputs": [],
   "source": [
    "def extract_features(doc, window=2, max_n_gram = 3):\n",
    "    doc_features = []\n",
    "    doc = ['xxpad' for i in range(window)] + doc + ['xxpad' for i in range(window)]\n",
    "    doc_pos = [p for (w,p) in pos_tag(doc)] \n",
    "    for i in range(window, len(doc)-window):\n",
    "        word_features = ['bias']\n",
    "        for n_gram in range(1, min(max_n_gram+1,2+window*2)):\n",
    "            for j in range(i-window,i+window+2-n_gram):\n",
    "                feature_position = f'{n_gram}_{j-i}_{j-i+n_gram}'\n",
    "                word_ = f'{\"|\".join(doc[j:(j+n_gram)])}'\n",
    "                pos_ =f'{\"|\".join(doc_pos[j:(j+n_gram)])}'\n",
    "                word_features += [f'word_{feature_position}={word_}']\n",
    "                word_features += [f'pos_{feature_position}={pos_}']\n",
    "        doc_features.append(word_features)\n",
    "    return doc_features"
   ]
  },
  {
   "cell_type": "code",
   "execution_count": 27,
   "metadata": {},
   "outputs": [
    {
     "data": {
      "text/plain": [
       "[['bias',\n",
       "  'word_1_-2_-1=xxpad',\n",
       "  'pos_1_-2_-1=NCMN',\n",
       "  'word_1_-1_0=xxpad',\n",
       "  'pos_1_-1_0=NCMN',\n",
       "  'word_1_0_1=ฉัน',\n",
       "  'pos_1_0_1=PPRS',\n",
       "  'word_1_1_2=ชอบ',\n",
       "  'pos_1_1_2=VACT',\n",
       "  'word_1_2_3=กิน',\n",
       "  'pos_1_2_3=VACT',\n",
       "  'word_2_-2_0=xxpad|xxpad',\n",
       "  'pos_2_-2_0=NCMN|NCMN',\n",
       "  'word_2_-1_1=xxpad|ฉัน',\n",
       "  'pos_2_-1_1=NCMN|PPRS',\n",
       "  'word_2_0_2=ฉัน|ชอบ',\n",
       "  'pos_2_0_2=PPRS|VACT',\n",
       "  'word_2_1_3=ชอบ|กิน',\n",
       "  'pos_2_1_3=VACT|VACT',\n",
       "  'word_3_-2_1=xxpad|xxpad|ฉัน',\n",
       "  'pos_3_-2_1=NCMN|NCMN|PPRS',\n",
       "  'word_3_-1_2=xxpad|ฉัน|ชอบ',\n",
       "  'pos_3_-1_2=NCMN|PPRS|VACT',\n",
       "  'word_3_0_3=ฉัน|ชอบ|กิน',\n",
       "  'pos_3_0_3=PPRS|VACT|VACT'],\n",
       " ['bias',\n",
       "  'word_1_-2_-1=xxpad',\n",
       "  'pos_1_-2_-1=NCMN',\n",
       "  'word_1_-1_0=ฉัน',\n",
       "  'pos_1_-1_0=PPRS',\n",
       "  'word_1_0_1=ชอบ',\n",
       "  'pos_1_0_1=VACT',\n",
       "  'word_1_1_2=กิน',\n",
       "  'pos_1_1_2=VACT',\n",
       "  'word_1_2_3=มะนาว',\n",
       "  'pos_1_2_3=NCMN',\n",
       "  'word_2_-2_0=xxpad|ฉัน',\n",
       "  'pos_2_-2_0=NCMN|PPRS',\n",
       "  'word_2_-1_1=ฉัน|ชอบ',\n",
       "  'pos_2_-1_1=PPRS|VACT',\n",
       "  'word_2_0_2=ชอบ|กิน',\n",
       "  'pos_2_0_2=VACT|VACT',\n",
       "  'word_2_1_3=กิน|มะนาว',\n",
       "  'pos_2_1_3=VACT|NCMN',\n",
       "  'word_3_-2_1=xxpad|ฉัน|ชอบ',\n",
       "  'pos_3_-2_1=NCMN|PPRS|VACT',\n",
       "  'word_3_-1_2=ฉัน|ชอบ|กิน',\n",
       "  'pos_3_-1_2=PPRS|VACT|VACT',\n",
       "  'word_3_0_3=ชอบ|กิน|มะนาว',\n",
       "  'pos_3_0_3=VACT|VACT|NCMN'],\n",
       " ['bias',\n",
       "  'word_1_-2_-1=ฉัน',\n",
       "  'pos_1_-2_-1=PPRS',\n",
       "  'word_1_-1_0=ชอบ',\n",
       "  'pos_1_-1_0=VACT',\n",
       "  'word_1_0_1=กิน',\n",
       "  'pos_1_0_1=VACT',\n",
       "  'word_1_1_2=มะนาว',\n",
       "  'pos_1_1_2=NCMN',\n",
       "  'word_1_2_3=xxpad',\n",
       "  'pos_1_2_3=NCMN',\n",
       "  'word_2_-2_0=ฉัน|ชอบ',\n",
       "  'pos_2_-2_0=PPRS|VACT',\n",
       "  'word_2_-1_1=ชอบ|กิน',\n",
       "  'pos_2_-1_1=VACT|VACT',\n",
       "  'word_2_0_2=กิน|มะนาว',\n",
       "  'pos_2_0_2=VACT|NCMN',\n",
       "  'word_2_1_3=มะนาว|xxpad',\n",
       "  'pos_2_1_3=NCMN|NCMN',\n",
       "  'word_3_-2_1=ฉัน|ชอบ|กิน',\n",
       "  'pos_3_-2_1=PPRS|VACT|VACT',\n",
       "  'word_3_-1_2=ชอบ|กิน|มะนาว',\n",
       "  'pos_3_-1_2=VACT|VACT|NCMN',\n",
       "  'word_3_0_3=กิน|มะนาว|xxpad',\n",
       "  'pos_3_0_3=VACT|NCMN|NCMN'],\n",
       " ['bias',\n",
       "  'word_1_-2_-1=ชอบ',\n",
       "  'pos_1_-2_-1=VACT',\n",
       "  'word_1_-1_0=กิน',\n",
       "  'pos_1_-1_0=VACT',\n",
       "  'word_1_0_1=มะนาว',\n",
       "  'pos_1_0_1=NCMN',\n",
       "  'word_1_1_2=xxpad',\n",
       "  'pos_1_1_2=NCMN',\n",
       "  'word_1_2_3=xxpad',\n",
       "  'pos_1_2_3=NCMN',\n",
       "  'word_2_-2_0=ชอบ|กิน',\n",
       "  'pos_2_-2_0=VACT|VACT',\n",
       "  'word_2_-1_1=กิน|มะนาว',\n",
       "  'pos_2_-1_1=VACT|NCMN',\n",
       "  'word_2_0_2=มะนาว|xxpad',\n",
       "  'pos_2_0_2=NCMN|NCMN',\n",
       "  'word_2_1_3=xxpad|xxpad',\n",
       "  'pos_2_1_3=NCMN|NCMN',\n",
       "  'word_3_-2_1=ชอบ|กิน|มะนาว',\n",
       "  'pos_3_-2_1=VACT|VACT|NCMN',\n",
       "  'word_3_-1_2=กิน|มะนาว|xxpad',\n",
       "  'pos_3_-1_2=VACT|NCMN|NCMN',\n",
       "  'word_3_0_3=มะนาว|xxpad|xxpad',\n",
       "  'pos_3_0_3=NCMN|NCMN|NCMN']]"
      ]
     },
     "execution_count": 27,
     "metadata": {},
     "output_type": "execute_result"
    }
   ],
   "source": [
    "extract_features(word_tokenize('ฉันชอบกินมะนาว'), window=2, max_n_gram = 3)"
   ]
  },
  {
   "cell_type": "code",
   "execution_count": null,
   "metadata": {},
   "outputs": [],
   "source": [
    "#target\n",
    "y = [[l for (w,l) in t] for t in all_tuples]\n",
    "#features\n",
    "x_pre = [[w for (w,l) in t] for t in all_tuples]\n",
    "x = [extract_features(x_, window=3, max_n_gram = 7) for x_ in x_pre]"
   ]
  },
  {
   "cell_type": "code",
   "execution_count": 29,
   "metadata": {},
   "outputs": [
    {
     "ename": "NameError",
     "evalue": "name 'x' is not defined",
     "output_type": "error",
     "traceback": [
      "\u001b[0;31m---------------------------------------------------------------------------\u001b[0m",
      "\u001b[0;31mNameError\u001b[0m                                 Traceback (most recent call last)",
      "\u001b[0;32m<ipython-input-29-74088b9522cc>\u001b[0m in \u001b[0;36m<module>\u001b[0;34m\u001b[0m\n\u001b[0;32m----> 1\u001b[0;31m \u001b[0mlen\u001b[0m\u001b[0;34m(\u001b[0m\u001b[0mx\u001b[0m\u001b[0;34m)\u001b[0m\u001b[0;34m,\u001b[0m\u001b[0mlen\u001b[0m\u001b[0;34m(\u001b[0m\u001b[0my\u001b[0m\u001b[0;34m)\u001b[0m\u001b[0;34m\u001b[0m\u001b[0;34m\u001b[0m\u001b[0m\n\u001b[0m",
      "\u001b[0;31mNameError\u001b[0m: name 'x' is not defined"
     ]
    }
   ],
   "source": [
    "len(x),len(y)"
   ]
  },
  {
   "cell_type": "code",
   "execution_count": null,
   "metadata": {},
   "outputs": [],
   "source": [
    "# Split train and test set at 80/20 proportion\n",
    "x_train, x_test, y_train, y_test = train_test_split(x, y, test_size=0.2, random_state=1412)"
   ]
  },
  {
   "cell_type": "code",
   "execution_count": null,
   "metadata": {},
   "outputs": [],
   "source": [
    "x_train[0][:5]"
   ]
  },
  {
   "cell_type": "code",
   "execution_count": null,
   "metadata": {},
   "outputs": [],
   "source": [
    "# Train model\n",
    "trainer = pycrfsuite.Trainer(verbose=True)\n",
    "#trainer = pycrfsuite.Trainer(verbose=False)\n",
    "\n",
    "for xseq, yseq in zip(x_train, y_train):\n",
    "  trainer.append(xseq, yseq)\n",
    "\n",
    "trainer.set_params({\n",
    "    'c1': 1,\n",
    "    'c2': 1e-1,\n",
    "    'max_iterations': 200,\n",
    "    'feature.possible_transitions': True,\n",
    "})\n",
    "\n",
    "trainer.train('sentenceseg-crf.model')"
   ]
  },
  {
   "cell_type": "code",
   "execution_count": null,
   "metadata": {},
   "outputs": [],
   "source": [
    "# Predict (using test set)\n",
    "tagger = pycrfsuite.Tagger()\n",
    "tagger.open('sentenceseg-crf.model')\n",
    "y_pred = [tagger.tag(xseq) for xseq in x_test]"
   ]
  },
  {
   "cell_type": "code",
   "execution_count": null,
   "metadata": {},
   "outputs": [],
   "source": [
    "# Evaluate\n",
    "labels = {'B': 0, \"I\": 1} # classification_report() needs values in 0s and 1s\n",
    "predictions = np.array([labels[tag] for row in y_pred for tag in row])\n",
    "truths = np.array([labels[tag] for row in y_test for tag in row])\n",
    "\n",
    "print(classification_report(\n",
    "    truths, predictions,\n",
    "    target_names=[\"B\", \"I\"]))"
   ]
  },
  {
   "cell_type": "code",
   "execution_count": null,
   "metadata": {},
   "outputs": [],
   "source": [
    "def sentence_tokenize(s):\n",
    "    toks = word_tokenize(s)\n",
    "    feat = extract_features(toks)\n",
    "    labs = tagger.tag(feat)\n",
    "    sentences = []\n",
    "    sentence = ''\n",
    "    for i, w in enumerate(toks):\n",
    "        if labs[i] == 'B':\n",
    "            if sentence:\n",
    "                sentences.append(sentence)\n",
    "            sentence = ''\n",
    "        sentence = sentence + w\n",
    "    if sentence:\n",
    "        sentences.append(sentence)\n",
    "    return sentences"
   ]
  },
  {
   "cell_type": "code",
   "execution_count": null,
   "metadata": {},
   "outputs": [],
   "source": [
    "s = 'เธอคือหุ่นยนต์รูปแบบใหม่ที่ฉันคนนี้สร้างขึ้นมาเธอมีความสามารถในการคิดและรู้สึกเหมือนมนุษย์ เธอสามารถตัดสินใจด้วยตัวเอง แต่ถึงอย่างนั้นมันก็เป็นดาบสองคม ที่อาจเป็นอันตรายถ้าเธอคิดว่ามนุษย์เป็นภัย จนแหกกฎข้อแรกที่หุ่นยนต์ห้ามทำร้ายมนุษย์ ฉันจำเป็นต้องใช้เวลาทดสอบระบบอีก 30 ปีเพื่อความมั่นใจว่าเธอจะไม่เป็นอันตรายกับมนุษย์ แต่ฉันคงจะมีชีวิตอยู่ไม่ถึงวันนั้น ดังนั้นฉันจึงปิดผนึกเธอเอาไว้ในแคปซูลจนกว่าระบบต่าง ๆ จะพร้อมเสียก่อน'"
   ]
  },
  {
   "cell_type": "code",
   "execution_count": null,
   "metadata": {},
   "outputs": [],
   "source": [
    "sentence_tokenize(s)"
   ]
  },
  {
   "cell_type": "code",
   "execution_count": null,
   "metadata": {},
   "outputs": [],
   "source": []
  }
 ],
 "metadata": {
  "kernelspec": {
   "display_name": "Python 3",
   "language": "python",
   "name": "python3"
  },
  "language_info": {
   "codemirror_mode": {
    "name": "ipython",
    "version": 3
   },
   "file_extension": ".py",
   "mimetype": "text/x-python",
   "name": "python",
   "nbconvert_exporter": "python",
   "pygments_lexer": "ipython3",
   "version": "3.6.8"
  }
 },
 "nbformat": 4,
 "nbformat_minor": 2
}
